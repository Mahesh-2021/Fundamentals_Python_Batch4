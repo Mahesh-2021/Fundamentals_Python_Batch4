{
 "cells": [
  {
   "cell_type": "code",
   "execution_count": 39,
   "metadata": {},
   "outputs": [
    {
     "data": {
      "text/plain": [
       "True"
      ]
     },
     "execution_count": 39,
     "metadata": {},
     "output_type": "execute_result"
    }
   ],
   "source": [
    "#IN operator\n",
    "fruits=['apple','guava','kiwi','mango']\n",
    "'mango' in fruits\n"
   ]
  },
  {
   "cell_type": "code",
   "execution_count": 38,
   "metadata": {},
   "outputs": [
    {
     "data": {
      "text/plain": [
       "False"
      ]
     },
     "execution_count": 38,
     "metadata": {},
     "output_type": "execute_result"
    }
   ],
   "source": [
    "'orange' in fruits"
   ]
  },
  {
   "cell_type": "code",
   "execution_count": 49,
   "metadata": {},
   "outputs": [
    {
     "name": "stdout",
     "output_type": "stream",
     "text": [
      "Siva,you can message him\n"
     ]
    }
   ],
   "source": [
    "#NOT IN Operator\n",
    "users=['mahesh','Ramu','visu','ramesh','gopal']\n",
    "user='siva'\n",
    "if user not in users:\n",
    "    print(f\"{user.title()},you can message him\")\n",
    "else:\n",
    "   print(f\"{user.title()},you can't message him\")"
   ]
  },
  {
   "cell_type": "code",
   "execution_count": 63,
   "metadata": {},
   "outputs": [
    {
     "name": "stdout",
     "output_type": "stream",
     "text": [
      "sorry,you are not eligible for this job\n"
     ]
    }
   ],
   "source": [
    "year_birth=1987\n",
    "if year_birth<=1988:\n",
    "    print(\"sorry,you are not eligible for this job\")\n",
    "else:\n",
    "    print(\"yes,you are eligible for this job\")"
   ]
  },
  {
   "cell_type": "code",
   "execution_count": 30,
   "metadata": {},
   "outputs": [
    {
     "name": "stdout",
     "output_type": "stream",
     "text": [
      "['cricket', 'Kabddi', 'race', 'chess']\n",
      "CRICKET\n",
      "Kabddi\n",
      "Race\n",
      "Chess\n"
     ]
    }
   ],
   "source": [
    "#IF condition\n",
    "# cricket comes up,all lettes needs to capitalise\n",
    "#all others title case\n",
    "games=['cricket','Kabddi','race','chess']\n",
    "print(games)\n",
    "for G in games:\n",
    "    if G=='cricket':\n",
    "        print(G.upper())\n",
    "    else:\n",
    "        print(G.title())"
   ]
  },
  {
   "cell_type": "code",
   "execution_count": 35,
   "metadata": {},
   "outputs": [
    {
     "name": "stdout",
     "output_type": "stream",
     "text": [
      "CRICKET\n",
      "Kabddi\n",
      "RACE\n",
      "Chess\n"
     ]
    }
   ],
   "source": [
    "#elif condition \n",
    "for G in games:\n",
    "    if G=='cricket':\n",
    "        print(G.upper())\n",
    "    elif G=='race':\n",
    "        print(G.upper())\n",
    "    else:\n",
    "        print(G.title())"
   ]
  },
  {
   "cell_type": "code",
   "execution_count": null,
   "metadata": {},
   "outputs": [],
   "source": []
  }
 ],
 "metadata": {
  "kernelspec": {
   "display_name": "Python 3",
   "language": "python",
   "name": "python3"
  },
  "language_info": {
   "codemirror_mode": {
    "name": "ipython",
    "version": 3
   },
   "file_extension": ".py",
   "mimetype": "text/x-python",
   "name": "python",
   "nbconvert_exporter": "python",
   "pygments_lexer": "ipython3",
   "version": "3.7.3"
  }
 },
 "nbformat": 4,
 "nbformat_minor": 2
}
