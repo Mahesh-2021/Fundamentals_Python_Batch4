{
 "cells": [
  {
   "cell_type": "code",
   "execution_count": 9,
   "metadata": {},
   "outputs": [
    {
     "name": "stdout",
     "output_type": "stream",
     "text": [
      "(100, 50)\n",
      "100\n",
      "50\n"
     ]
    }
   ],
   "source": [
    "angles=(100,50)\n",
    "print(angles)\n",
    "print(angles[0])\n",
    "print(angles[1])"
   ]
  },
  {
   "cell_type": "code",
   "execution_count": 10,
   "metadata": {},
   "outputs": [
    {
     "name": "stdout",
     "output_type": "stream",
     "text": [
      "The Zen of Python, by Tim Peters\n",
      "\n",
      "Beautiful is better than ugly.\n",
      "Explicit is better than implicit.\n",
      "Simple is better than complex.\n",
      "Complex is better than complicated.\n",
      "Flat is better than nested.\n",
      "Sparse is better than dense.\n",
      "Readability counts.\n",
      "Special cases aren't special enough to break the rules.\n",
      "Although practicality beats purity.\n",
      "Errors should never pass silently.\n",
      "Unless explicitly silenced.\n",
      "In the face of ambiguity, refuse the temptation to guess.\n",
      "There should be one-- and preferably only one --obvious way to do it.\n",
      "Although that way may not be obvious at first unless you're Dutch.\n",
      "Now is better than never.\n",
      "Although never is often better than *right* now.\n",
      "If the implementation is hard to explain, it's a bad idea.\n",
      "If the implementation is easy to explain, it may be a good idea.\n",
      "Namespaces are one honking great idea -- let's do more of those!\n"
     ]
    }
   ],
   "source": [
    "#zen of pythons:\n",
    "import this"
   ]
  },
  {
   "cell_type": "code",
   "execution_count": 16,
   "metadata": {},
   "outputs": [
    {
     "name": "stdout",
     "output_type": "stream",
     "text": [
      "(200, 400)\n"
     ]
    }
   ],
   "source": [
    "#PEP-8 --Python enhancement praposlas\n",
    "# code consistancy\n",
    "angles=(200,400)\n",
    "print(angles)\n"
   ]
  },
  {
   "cell_type": "code",
   "execution_count": 30,
   "metadata": {},
   "outputs": [
    {
     "name": "stdout",
     "output_type": "stream",
     "text": [
      "['cricket', 'Kabddi', 'race', 'chess']\n",
      "CRICKET\n",
      "Kabddi\n",
      "Race\n",
      "Chess\n"
     ]
    }
   ],
   "source": [
    "#IF condition\n",
    "# cricket comes up,all lettes needs to capitalise\n",
    "#all others title case\n",
    "games=['cricket','Kabddi','race','chess']\n",
    "print(games)\n",
    "for G in games:\n",
    "    if G=='cricket':\n",
    "        print(G.upper())\n",
    "    else:\n",
    "        print(G.title())"
   ]
  },
  {
   "cell_type": "code",
   "execution_count": 35,
   "metadata": {},
   "outputs": [
    {
     "name": "stdout",
     "output_type": "stream",
     "text": [
      "CRICKET\n",
      "Kabddi\n",
      "RACE\n",
      "Chess\n"
     ]
    }
   ],
   "source": [
    "#elif condition \n",
    "for G in games:\n",
    "    if G=='cricket':\n",
    "        print(G.upper())\n",
    "    elif G=='race':\n",
    "        print(G.upper())\n",
    "    else:\n",
    "        print(G.title())"
   ]
  },
  {
   "cell_type": "code",
   "execution_count": null,
   "metadata": {},
   "outputs": [],
   "source": []
  }
 ],
 "metadata": {
  "kernelspec": {
   "display_name": "Python 3",
   "language": "python",
   "name": "python3"
  },
  "language_info": {
   "codemirror_mode": {
    "name": "ipython",
    "version": 3
   },
   "file_extension": ".py",
   "mimetype": "text/x-python",
   "name": "python",
   "nbconvert_exporter": "python",
   "pygments_lexer": "ipython3",
   "version": "3.7.3"
  }
 },
 "nbformat": 4,
 "nbformat_minor": 2
}
