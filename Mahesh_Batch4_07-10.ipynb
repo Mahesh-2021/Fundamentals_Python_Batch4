{
 "cells": [
  {
   "cell_type": "code",
   "execution_count": 16,
   "metadata": {},
   "outputs": [
    {
     "name": "stdout",
     "output_type": "stream",
     "text": [
      "{'name': 'Mahesh', 'age': 28, 'Company': 'HCL'}\n"
     ]
    }
   ],
   "source": [
    "#Dictionary DataType declaration \n",
    "#It is a mutable datatype\n",
    "#So we can able to modify dict once it'e get assigned\n",
    "emps={'name':'Mahesh',''\"age\"'':28,'Company':\"HCL\"}\n",
    "print(emps)\n",
    "\n"
   ]
  },
  {
   "cell_type": "code",
   "execution_count": 10,
   "metadata": {},
   "outputs": [
    {
     "name": "stdout",
     "output_type": "stream",
     "text": [
      "Mahesh\n",
      "28\n"
     ]
    }
   ],
   "source": [
    "#Access the value in Dict:\n",
    "print(emps['name'])\n",
    "print(emps['age'])"
   ]
  },
  {
   "cell_type": "code",
   "execution_count": 12,
   "metadata": {},
   "outputs": [
    {
     "ename": "KeyError",
     "evalue": "'Project'",
     "output_type": "error",
     "traceback": [
      "\u001b[1;31m---------------------------------------------------------------------------\u001b[0m",
      "\u001b[1;31mKeyError\u001b[0m                                  Traceback (most recent call last)",
      "\u001b[1;32m<ipython-input-12-4f8ee7664578>\u001b[0m in \u001b[0;36m<module>\u001b[1;34m\u001b[0m\n\u001b[0;32m      1\u001b[0m \u001b[1;31m#Accessing the data which is not present in Dict:\u001b[0m\u001b[1;33m\u001b[0m\u001b[1;33m\u001b[0m\u001b[1;33m\u001b[0m\u001b[0m\n\u001b[1;32m----> 2\u001b[1;33m \u001b[0mprint\u001b[0m\u001b[1;33m(\u001b[0m\u001b[0memps\u001b[0m\u001b[1;33m[\u001b[0m\u001b[1;34m'Project'\u001b[0m\u001b[1;33m]\u001b[0m\u001b[1;33m)\u001b[0m\u001b[1;33m\u001b[0m\u001b[1;33m\u001b[0m\u001b[0m\n\u001b[0m",
      "\u001b[1;31mKeyError\u001b[0m: 'Project'"
     ]
    }
   ],
   "source": [
    "#Accessing the data which is not present in Dict:\n",
    "print(emps['Project'])"
   ]
  },
  {
   "cell_type": "code",
   "execution_count": 18,
   "metadata": {},
   "outputs": [
    {
     "name": "stdout",
     "output_type": "stream",
     "text": [
      "{'name': 'Mahesh', 'age': 28, 'Company': 'HCL'}\n"
     ]
    }
   ],
   "source": [
    "emps={'name':'Mahesh','age':28,'Company':\"HCL\"}\n",
    "print(emps)"
   ]
  },
  {
   "cell_type": "code",
   "execution_count": 23,
   "metadata": {},
   "outputs": [
    {
     "name": "stdout",
     "output_type": "stream",
     "text": [
      "{'name': 'Mahesh', 'age': 30, 'Company': 'HCL', 'project_name': 'H&M'}\n",
      "{'name': 'Mahesh', 'age': 30, 'Company': 'HCL', 'project_name': 'H&M'}\n"
     ]
    }
   ],
   "source": [
    "emps['project_name']='H&M'\n",
    "print(emps)\n",
    "emps['age']=30\n",
    "print(emps)"
   ]
  },
  {
   "cell_type": "code",
   "execution_count": 31,
   "metadata": {},
   "outputs": [
    {
     "name": "stdout",
     "output_type": "stream",
     "text": [
      "{'name': 'Mahesh', 'Company': 'HCL', 'project_name': 'H&M', 'age': 30, 'Skill': 'BizTalk'}\n",
      "{'name': 'Mahesh', 'Company': 'HCL', 'project_name': 'H&M', 'age': 30, 'Skill': 'BizTalk'}\n",
      "{'name': 'Mahesh', 'Company': 'HCL', 'project_name': 'H&M', 'Skill': 'BizTalk'}\n"
     ]
    }
   ],
   "source": [
    "#Delete value from Dict:\n",
    "emps['age']=30\n",
    "print(emps)\n",
    "emps['Skill']= 'BizTalk'\n",
    "print(emps)\n",
    "del emps['age']\n",
    "print(emps)"
   ]
  },
  {
   "cell_type": "code",
   "execution_count": 32,
   "metadata": {},
   "outputs": [
    {
     "name": "stdout",
     "output_type": "stream",
     "text": [
      "{}\n"
     ]
    }
   ],
   "source": [
    "#CLear all emps data\n",
    "emps.clear()\n",
    "print(emps)"
   ]
  },
  {
   "cell_type": "code",
   "execution_count": 39,
   "metadata": {},
   "outputs": [
    {
     "ename": "NameError",
     "evalue": "name 'emps' is not defined",
     "output_type": "error",
     "traceback": [
      "\u001b[1;31m---------------------------------------------------------------------------\u001b[0m",
      "\u001b[1;31mNameError\u001b[0m                                 Traceback (most recent call last)",
      "\u001b[1;32m<ipython-input-39-3b328591c927>\u001b[0m in \u001b[0;36m<module>\u001b[1;34m\u001b[0m\n\u001b[1;32m----> 1\u001b[1;33m \u001b[0mprint\u001b[0m\u001b[1;33m(\u001b[0m\u001b[0memps\u001b[0m\u001b[1;33m)\u001b[0m\u001b[1;33m\u001b[0m\u001b[1;33m\u001b[0m\u001b[0m\n\u001b[0m",
      "\u001b[1;31mNameError\u001b[0m: name 'emps' is not defined"
     ]
    }
   ],
   "source": [
    "print(emps)"
   ]
  },
  {
   "cell_type": "code",
   "execution_count": null,
   "metadata": {},
   "outputs": [],
   "source": []
  },
  {
   "cell_type": "code",
   "execution_count": null,
   "metadata": {},
   "outputs": [],
   "source": []
  }
 ],
 "metadata": {
  "kernelspec": {
   "display_name": "Python 3",
   "language": "python",
   "name": "python3"
  },
  "language_info": {
   "codemirror_mode": {
    "name": "ipython",
    "version": 3
   },
   "file_extension": ".py",
   "mimetype": "text/x-python",
   "name": "python",
   "nbconvert_exporter": "python",
   "pygments_lexer": "ipython3",
   "version": "3.7.3"
  }
 },
 "nbformat": 4,
 "nbformat_minor": 2
}
