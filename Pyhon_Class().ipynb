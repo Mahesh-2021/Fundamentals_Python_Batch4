{
 "cells": [
  {
   "cell_type": "code",
   "execution_count": null,
   "metadata": {},
   "outputs": [],
   "source": [
    "#OOP's\n",
    "#Class introduction\n",
    "-how to define a class?\n",
    "-by using key word class\n",
    "-how to declare a class name?\n",
    "-Always use camel case 0r title case()\n",
    "-Create a object/instance()\n",
    "-Functions declared inside a class are called as methods()\n",
    "def greet_user() --->method()\n",
    "-whenever we are declaring a method inside a class, we need to pass an additional thing to method called as 'self'"
   ]
  },
  {
   "cell_type": "code",
   "execution_count": null,
   "metadata": {},
   "outputs": [],
   "source": [
    "class Emp(): # class name\n",
    "  def geet_user(self): #Method name"
   ]
  },
  {
   "cell_type": "code",
   "execution_count": 13,
   "metadata": {},
   "outputs": [],
   "source": [
    "class employees():\n",
    "    #class inside creating/defining methods\n",
    "    def emp_project(self): # we are using 'self' while creating method inside a class\n",
    "        print(\"what is the primary skill required for this project\")\n",
    "     \n",
    "    def emp_count(self):\n",
    "        print(\"How many emps are required in project\")\n",
    "    \n",
    "    def emp_process(self):\n",
    "        print(\"Assigned all required emps to project\")"
   ]
  },
  {
   "cell_type": "code",
   "execution_count": 14,
   "metadata": {},
   "outputs": [],
   "source": [
    "#Creation of Object\n",
    "\n",
    "project=employees() #Instantiation of an object (or) this means the 'employees' class has been assigned to 'project' object\n"
   ]
  },
  {
   "cell_type": "code",
   "execution_count": 15,
   "metadata": {},
   "outputs": [
    {
     "name": "stdout",
     "output_type": "stream",
     "text": [
      "what is the primary skill required for this project\n",
      "How many emps are required in project\n",
      "Assigned all required emps to project\n"
     ]
    }
   ],
   "source": [
    "project.emp_project()\n",
    "project.emp_count()\n",
    "project.emp_process()"
   ]
  },
  {
   "cell_type": "code",
   "execution_count": null,
   "metadata": {},
   "outputs": [],
   "source": []
  }
 ],
 "metadata": {
  "kernelspec": {
   "display_name": "Python 3",
   "language": "python",
   "name": "python3"
  },
  "language_info": {
   "codemirror_mode": {
    "name": "ipython",
    "version": 3
   },
   "file_extension": ".py",
   "mimetype": "text/x-python",
   "name": "python",
   "nbconvert_exporter": "python",
   "pygments_lexer": "ipython3",
   "version": "3.7.3"
  }
 },
 "nbformat": 4,
 "nbformat_minor": 2
}
